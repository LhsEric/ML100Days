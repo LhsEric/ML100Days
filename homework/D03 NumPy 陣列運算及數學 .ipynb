{
 "cells": [
  {
   "cell_type": "markdown",
   "metadata": {},
   "source": [
    "作業目標:\n",
    "嘗試練習log的函式並應用\n",
    "作業重點:\n",
    "學員需要複習log的轉換方式\n",
    "熟悉運用指數函數以及對數函數\n",
    "\n",
    "題目:\n",
    "運用投影片中的分貝公式回答下列問題。\n",
    "1.正常的談話的聲壓為20000微巴斯卡，請問多少分貝?\n",
    "2.30分貝的聲壓會是50分貝的幾倍?"
   ]
  },
  {
   "cell_type": "code",
   "execution_count": 2,
   "metadata": {},
   "outputs": [],
   "source": [
    "import numpy as np"
   ]
  },
  {
   "cell_type": "code",
   "execution_count": 10,
   "metadata": {},
   "outputs": [
    {
     "name": "stdout",
     "output_type": "stream",
     "text": [
      "正常的談話的聲壓為 20000 微巴斯卡其分貝為 60.0 分貝\n"
     ]
    }
   ],
   "source": [
    "#1. 正常的談話的聲壓為20000微巴斯卡，請問多少分貝?\n",
    "V1 = 20000\n",
    "V0 = 20\n",
    "Gdb = 20 * np.log10(V1/V0)\n",
    "print(\"正常的談話的聲壓為 20000 微巴斯卡其分貝為\",Gdb,\"分貝\")"
   ]
  },
  {
   "cell_type": "code",
   "execution_count": 16,
   "metadata": {},
   "outputs": [],
   "source": [
    "#2. 30分貝的聲壓會是50分貝的幾倍?\n",
    "V_30=10**(30/20)*20\n",
    "V_50=10**(50/20)*20"
   ]
  },
  {
   "cell_type": "code",
   "execution_count": 17,
   "metadata": {},
   "outputs": [
    {
     "name": "stdout",
     "output_type": "stream",
     "text": [
      "30分貝的聲壓會是50分貝的倍 0.09999999999999999 倍\n"
     ]
    }
   ],
   "source": [
    "print(\"30分貝的聲壓會是50分貝的倍\",V_30/V_50,\"倍\")"
   ]
  },
  {
   "cell_type": "code",
   "execution_count": null,
   "metadata": {},
   "outputs": [],
   "source": []
  }
 ],
 "metadata": {
  "kernelspec": {
   "display_name": "Python 3",
   "language": "python",
   "name": "python3"
  },
  "language_info": {
   "codemirror_mode": {
    "name": "ipython",
    "version": 3
   },
   "file_extension": ".py",
   "mimetype": "text/x-python",
   "name": "python",
   "nbconvert_exporter": "python",
   "pygments_lexer": "ipython3",
   "version": "3.6.5"
  }
 },
 "nbformat": 4,
 "nbformat_minor": 2
}
